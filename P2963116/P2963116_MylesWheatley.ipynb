{
 "cells": [
  {
   "cell_type": "code",
   "execution_count": 3,
   "id": "15369fd7",
   "metadata": {},
   "outputs": [
    {
     "name": "stdout",
     "output_type": "stream",
     "text": [
      "PyTorch version: 2.9.0+cu130\n",
      "PyTorch working with CUDA: True\n"
     ]
    }
   ],
   "source": [
    "import torch\n",
    "import torch.nn as nn\n",
    "import torch.nn.functional as F\n",
    "from torch.utils.data import Dataset, DataLoader\n",
    "import torchvision\n",
    "from torchvision import datasets\n",
    "from torchvision.transforms import ToTensor, Normalize, Compose\n",
    "import matplotlib.pyplot as plt\n",
    "import numpy as np\n",
    "\n",
    "print('PyTorch version:', torch.__version__)\n",
    "print('PyTorch working with CUDA:', torch.cuda.is_available())"
   ]
  },
  {
   "cell_type": "code",
   "execution_count": 4,
   "id": "73855e7e",
   "metadata": {},
   "outputs": [],
   "source": [
    "# Ordered list of data labels as per Fashion MNIST Documentation\n",
    "data_labels = [\"T-Shirt\", \"Trouser\", \"Pullover\", \"Dress\", \"Coat\", \"Sandal\",\n",
    "               \"Shirt\", \"Sneaker\", \"Bag\", \"Ankle Boot\"]\n",
    "\n",
    "# Data pre-processing transformations\n",
    "transforms = Compose([\n",
    "    ToTensor(), \n",
    "    Normalize(mean=0.5, std=0.5)\n",
    "])\n",
    "\n",
    "# Initialises data\n",
    "training_data = datasets.FashionMNIST(\n",
    "    root = \"data\",\n",
    "    train = True,\n",
    "    download = True,\n",
    "    transform = transforms\n",
    ")\n",
    "\n",
    "test_data = datasets.FashionMNIST(\n",
    "    root = \"data\",\n",
    "    train = False,\n",
    "    download = True,\n",
    "    transform = transforms\n",
    ")\n",
    "\n",
    "# Batch Size Hyperparameter (default = 64)\n",
    "batch_size = 64\n",
    "\n",
    "# Load the data with automatic shuffling for training\n",
    "train_loader = DataLoader(training_data, batch_size, shuffle=True)\n",
    "test_loader = DataLoader(test_data, batch_size, shuffle=False)\n",
    "\n",
    "\n",
    "train_images, train_labels = next(iter(train_loader))\n",
    "test_images, test_labels = next(iter(test_loader))\n",
    "\n",
    "# Tests\n",
    "train_expected_size = torch.Size([batch_size,1,28,28])\n",
    "assert train_images.shape == train_expected_size\n",
    "\n",
    "expected_label_size = torch.Size([batch_size])\n",
    "assert train_labels.shape == expected_label_size"
   ]
  },
  {
   "cell_type": "code",
   "execution_count": 5,
   "id": "7e10bd1a",
   "metadata": {},
   "outputs": [
    {
     "data": {
      "image/png": "[encoded data removed]",
      "text/plain": [
       "<Figure size 640x480 with 1 Axes>"
      ]
     },
     "metadata": {},
     "output_type": "display_data"
    }
   ],
   "source": [
    "# Plot of random sample with label\n",
    "img = train_images[0].squeeze()\n",
    "label = data_labels[train_labels[0]]\n",
    "\n",
    "fig = plt.imshow(img)\n",
    "plt.axis('off')\n",
    "fig.axes.get_xaxis().set_visible(False)\n",
    "fig.axes.get_yaxis().set_visible(False)\n",
    "plt.set_cmap('inferno')\n",
    "plt.title(label)\n",
    "plt.show()"
   ]
  },
  {
   "cell_type": "code",
   "execution_count": 6,
   "id": "52665704",
   "metadata": {},
   "outputs": [],
   "source": [
    "class MultilayerPerceptron(nn.Module):\n",
    "    def __init__(self, hidden1,hidden2,hidden3,in_features=28*28, out_features=10):\n",
    "        '''\n",
    "        3-Layer MLP with specifiable hidden layer size\n",
    "        Args:\n",
    "            hidden1 (int): specify the number of neurons in layer 1\n",
    "            hidden2 (int): specify the number of neurons in layer 2\n",
    "            hidden3 (int): specify the number of neurons in layer 3\n",
    "            in_features (int/optional): specify the number of inputs (size of flattened image = length * width)\n",
    "            out_features (int/optional): specify the number of outputs (number of classes)\n",
    "        '''\n",
    "        super().__init__()\n",
    "        self.flatten = nn.Flatten()\n",
    "        self.lin_relu_stack = nn.Sequential(\n",
    "            nn.Linear(in_features,hidden1),\n",
    "            nn.ReLU(),\n",
    "            nn.Linear(hidden1, hidden2),\n",
    "            nn.ReLU(),\n",
    "            nn.Linear(hidden2,hidden3),\n",
    "            nn.ReLU(),\n",
    "            nn.Linear(hidden3, out_features),\n",
    "      )\n",
    "\n",
    "    def forward(self, x):\n",
    "        '''\n",
    "        Perform a forward pass of the network.\n",
    "        Note: This flattens the image for us so we need not reshape input data.\n",
    "        Args:\n",
    "            x (tensor): datapoint from our data\n",
    "        '''\n",
    "        x = self.flatten(x)\n",
    "        output = self.lin_relu_stack(x)\n",
    "        output = F.softmax(output, dim=1)\n",
    "        return output"
   ]
  },
  {
   "cell_type": "code",
   "execution_count": 7,
   "id": "8c608c67",
   "metadata": {},
   "outputs": [
    {
     "name": "stdout",
     "output_type": "stream",
     "text": [
      "MultilayerPerceptron(\n",
      "  (flatten): Flatten(start_dim=1, end_dim=-1)\n",
      "  (lin_relu_stack): Sequential(\n",
      "    (0): Linear(in_features=784, out_features=1024, bias=True)\n",
      "    (1): ReLU()\n",
      "    (2): Linear(in_features=1024, out_features=512, bias=True)\n",
      "    (3): ReLU()\n",
      "    (4): Linear(in_features=512, out_features=256, bias=True)\n",
      "    (5): ReLU()\n",
      "    (6): Linear(in_features=256, out_features=10, bias=True)\n",
      "  )\n",
      ")\n"
     ]
    }
   ],
   "source": [
    "# Initialise model and check structure\n",
    "ann_model = MultilayerPerceptron(1024,512,256)\n",
    "print(ann_model)"
   ]
  },
  {
   "cell_type": "code",
   "execution_count": 8,
   "id": "781bf958",
   "metadata": {},
   "outputs": [],
   "source": [
    "def train(dataloader, model, loss_fn, optim):\n",
    "    '''\n",
    "    Perform a simple training pass for one epoch\n",
    "    Args:\n",
    "        dataloader (Dataloader(data)): Dataloader using torchvision\n",
    "        model (ANN/CNN): Chosen model\n",
    "        loss_fn: Loss function used\n",
    "        optim: optimiser used for gradient parameter adjustment\n",
    "    '''\n",
    "    model.train()\n",
    "    num_batch = len(dataloader)\n",
    "    train_loss = 0\n",
    "    for X,label in dataloader:\n",
    "        optimizer.zero_grad()\n",
    "        pred = model(X)\n",
    "        loss = loss_fn(pred, label)\n",
    "        loss.backward()\n",
    "        optimizer.step()\n",
    "        train_loss += loss.item()\n",
    "    train_loss /= num_batch\n",
    "    print(f'Training loss = {train_loss:>5f}')\n",
    "    return train_loss\n",
    "\n",
    "def test(dataloader, model):\n",
    "    '''\n",
    "    Perform a test pass.\n",
    "    Args:\n",
    "        dataloader (DataLoader(data)): Dataloader of a dataset using torchvision\n",
    "        model (ANN/CNN): Chosen model\n",
    "    '''\n",
    "    model.eval()\n",
    "    num_batch = len(dataloader)\n",
    "    test_loss = 0\n",
    "    for X,label in dataloader:\n",
    "        pred = model(X)\n",
    "        loss = loss_fn(pred, label)\n",
    "        test_loss += loss.item()\n",
    "    test_loss /= num_batch\n",
    "    print(f'Test loss = {test_loss:>5f}')\n",
    "    return test_loss"
   ]
  },
  {
   "cell_type": "code",
   "execution_count": 9,
   "id": "69f36a69",
   "metadata": {},
   "outputs": [],
   "source": [
    "# initial hyperparameters\n",
    "learn_rate = 1e-3\n",
    "epochs = 5\n",
    "\n",
    "# initialise loss function and optimiser\n",
    "loss_fn = nn.CrossEntropyLoss()\n",
    "optimizer = torch.optim.SGD(ann_model.parameters(), lr=learn_rate, momentum=0.9)"
   ]
  },
  {
   "cell_type": "code",
   "execution_count": 10,
   "id": "bc3ecc45",
   "metadata": {},
   "outputs": [
    {
     "name": "stdout",
     "output_type": "stream",
     "text": [
      "Epoch 1/5\n",
      "Training loss = 2.294888\n",
      "Test loss = 2.281665\n",
      "Epoch 2/5\n",
      "Training loss = 2.192503\n",
      "Test loss = 2.063239\n",
      "Epoch 3/5\n",
      "Training loss = 1.940457\n",
      "Test loss = 1.841827\n",
      "Epoch 4/5\n",
      "Training loss = 1.800798\n",
      "Test loss = 1.768382\n",
      "Epoch 5/5\n",
      "Training loss = 1.745448\n",
      "Test loss = 1.729611\n"
     ]
    }
   ],
   "source": [
    "# training/test loop\n",
    "loss_hist = []\n",
    "for e in range(epochs):\n",
    "    print(f'Epoch {e+1}/{epochs}')\n",
    "    train_loss = train(train_loader, ann_model, loss_fn, optimizer)\n",
    "    test_loss = test(test_loader, ann_model)\n",
    "    loss_hist.append([train_loss,test_loss]) "
   ]
  },
  {
   "cell_type": "code",
   "execution_count": 11,
   "id": "f36ecf34",
   "metadata": {},
   "outputs": [
    {
     "data": {
      "image/png": "[encoded data removed]",
      "text/plain": [
       "<Figure size 640x480 with 1 Axes>"
      ]
     },
     "metadata": {},
     "output_type": "display_data"
    }
   ],
   "source": [
    "plt.plot(loss_hist, label=[\"training losses\",\"test losses\"])\n",
    "plt.xlabel(\"Epochs\")\n",
    "plt.ylabel(\"Loss\")\n",
    "plt.legend()\n",
    "plt.show()"
   ]
  }
 ],
 "metadata": {
  "kernelspec": {
   "display_name": ".venv",
   "language": "python",
   "name": "python3"
  },
  "language_info": {
   "codemirror_mode": {
    "name": "ipython",
    "version": 3
   },
   "file_extension": ".py",
   "mimetype": "text/x-python",
   "name": "python",
   "nbconvert_exporter": "python",
   "pygments_lexer": "ipython3",
   "version": "3.12.9"
  }
 },
 "nbformat": 4,
 "nbformat_minor": 5
}
