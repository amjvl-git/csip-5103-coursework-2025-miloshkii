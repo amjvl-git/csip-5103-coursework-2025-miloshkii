{
 "cells": [
  {
   "cell_type": "code",
   "execution_count": 29,
   "id": "15369fd7",
   "metadata": {},
   "outputs": [
    {
     "name": "stdout",
     "output_type": "stream",
     "text": [
      "PyTorch version: 2.9.0+cu130\n",
      "PyTorch working with CUDA: True\n"
     ]
    }
   ],
   "source": [
    "import torch\n",
    "import torch.nn as nn\n",
    "import torch.nn.functional as F\n",
    "from torch.utils.data import Dataset, DataLoader\n",
    "import torchvision\n",
    "from torchvision import datasets\n",
    "from torchvision.transforms import ToTensor, Normalize, Compose\n",
    "import matplotlib.pyplot as plt\n",
    "import numpy as np\n",
    "\n",
    "print('PyTorch version:', torch.__version__)\n",
    "print('PyTorch working with CUDA:', torch.cuda.is_available())"
   ]
  },
  {
   "cell_type": "code",
   "execution_count": 47,
   "id": "73855e7e",
   "metadata": {},
   "outputs": [],
   "source": [
    "# Ordered list of data labels as per Fashion MNIST Documentation\n",
    "data_labels = [\"T-Shirt\", \"Trouser\", \"Pullover\", \"Dress\", \"Coat\", \"Sandal\",\n",
    "               \"Shirt\", \"Sneaker\", \"Bag\", \"Ankle Boot\"]\n",
    "\n",
    "# Data pre-processing transformations\n",
    "transforms = Compose([\n",
    "    ToTensor(), \n",
    "    Normalize(mean=0.5, std=0.5)\n",
    "])\n",
    "\n",
    "# Initialises data\n",
    "training_data = datasets.FashionMNIST(\n",
    "    root = \"data\",\n",
    "    train = True,\n",
    "    download = True,\n",
    "    transform = transforms\n",
    ")\n",
    "\n",
    "test_data = datasets.FashionMNIST(\n",
    "    root = \"data\",\n",
    "    train = False,\n",
    "    download = True,\n",
    "    transform = transforms\n",
    ")\n",
    "\n",
    "# Batch Size Hyperparameter (default = 64)\n",
    "batch_size = 64\n",
    "\n",
    "# Load the data with automatic shuffling for training\n",
    "train_loader = DataLoader(training_data, batch_size, shuffle=True)\n",
    "test_loader = DataLoader(test_data, batch_size, shuffle=False)\n",
    "\n",
    "\n",
    "train_images, train_labels = next(iter(train_loader))\n",
    "test_images, test_labels = next(iter(test_loader))\n",
    "\n",
    "# Tests\n",
    "train_expected_size = torch.Size([batch_size,1,28,28])\n",
    "assert train_images.shape == train_expected_size\n",
    "\n",
    "expected_label_size = torch.Size([batch_size])\n",
    "assert train_labels.shape == expected_label_size"
   ]
  },
  {
   "cell_type": "code",
   "execution_count": 48,
   "id": "7e10bd1a",
   "metadata": {},
   "outputs": [
    {
     "data": {
      "image/png": "[encoded data removed]",
      "text/plain": [
       "<Figure size 640x480 with 1 Axes>"
      ]
     },
     "metadata": {},
     "output_type": "display_data"
    }
   ],
   "source": [
    "# Plot of random sample with label\n",
    "img = train_images[0].squeeze()\n",
    "label = data_labels[train_labels[0]]\n",
    "\n",
    "fig = plt.imshow(img)\n",
    "plt.axis('off')\n",
    "fig.axes.get_xaxis().set_visible(False)\n",
    "fig.axes.get_yaxis().set_visible(False)\n",
    "plt.set_cmap('inferno')\n",
    "plt.title(label)\n",
    "plt.show()"
   ]
  },
  {
   "cell_type": "code",
   "execution_count": 59,
   "id": "52665704",
   "metadata": {},
   "outputs": [],
   "source": [
    "class MultilayerPerceptron(nn.Module):\n",
    "    def __init__(self, hidden1,hidden2,hidden3,in_features=28*28, out_features=10):\n",
    "        '''\n",
    "        3-Layer MLP with specifiable hidden layer size\n",
    "        Args:\n",
    "            hidden1 (int): specify the number of neurons in layer 1\n",
    "            hidden2 (int): specify the number of neurons in layer 2\n",
    "            hidden3 (int): specify the number of neurons in layer 3\n",
    "            in_features (int/optional): specify the number of inputs (size of flattened image = length * width)\n",
    "            out_features (int/optional): specify the number of outputs (number of classes)\n",
    "        '''\n",
    "        super().__init__()\n",
    "        self.flatten = nn.Flatten()\n",
    "        self.lin_relu_stack = nn.Sequential(\n",
    "            nn.Linear(in_features,hidden1),\n",
    "            nn.ReLU(),\n",
    "            nn.Linear(hidden1, hidden2),\n",
    "            nn.ReLU(),\n",
    "            nn.Linear(hidden2,hidden3),\n",
    "            nn.ReLU(),\n",
    "            nn.Linear(hidden3, out_features),\n",
    "      )\n",
    "\n",
    "    def forward(self, x):\n",
    "        '''\n",
    "        Perform a forward pass of the network.\n",
    "        Note: This flattens the image for us so we need not reshape input data.\n",
    "        Args:\n",
    "            x (tensor): datapoint from our data\n",
    "        '''\n",
    "        x = self.flatten(x)\n",
    "        output = self.lin_relu_stack(x)\n",
    "        output = F.softmax(output, dim=1)\n",
    "        return output"
   ]
  },
  {
   "cell_type": "code",
   "execution_count": 60,
   "id": "8c608c67",
   "metadata": {},
   "outputs": [
    {
     "name": "stdout",
     "output_type": "stream",
     "text": [
      "MultilayerPerceptron(\n",
      "  (flatten): Flatten(start_dim=1, end_dim=-1)\n",
      "  (lin_relu_stack): Sequential(\n",
      "    (0): Linear(in_features=784, out_features=512, bias=True)\n",
      "    (1): ReLU()\n",
      "    (2): Linear(in_features=512, out_features=256, bias=True)\n",
      "    (3): ReLU()\n",
      "    (4): Linear(in_features=256, out_features=128, bias=True)\n",
      "    (5): ReLU()\n",
      "    (6): Linear(in_features=128, out_features=10, bias=True)\n",
      "  )\n",
      ")\n"
     ]
    }
   ],
   "source": [
    "# Initialise model and check structure\n",
    "ann_model = MultilayerPerceptron(512,256,128)\n",
    "print(ann_model)"
   ]
  },
  {
   "cell_type": "code",
   "execution_count": 82,
   "id": "781bf958",
   "metadata": {},
   "outputs": [],
   "source": [
    "def train(dataloader, model, loss_fn, optim):\n",
    "    '''\n",
    "    Perform a simple training pass for one epoch\n",
    "    Args:\n",
    "        dataloader (Dataloader(data)): Dataloader using torchvision\n",
    "        model (ANN/CNN): Chosen model\n",
    "        loss_fn: Loss function used\n",
    "        optim: optimiser used for gradient parameter adjustment\n",
    "    '''\n",
    "    model.train()\n",
    "    size = len(dataloader.dataset)\n",
    "    num_batch = len(dataloader)\n",
    "    train_loss = 0\n",
    "    for batch, (X,label) in enumerate(dataloader):\n",
    "        optimizer.zero_grad()\n",
    "        pred = model(X)\n",
    "        loss = loss_fn(pred, label)\n",
    "        loss.backward()\n",
    "        optimizer.step()\n",
    "        train_loss +=loss.item()\n",
    "\n",
    "        if batch % 100 == 0:\n",
    "            loss, current = loss.item(), batch * batch_size + len(X)\n",
    "            print(f\"loss: {loss:>7f}  [{current:>5d}/{size:>5d}]\")\n",
    "    train_loss /= num_batch\n",
    "    print(f'Training loss = {train_loss:>5f}')\n",
    "    return train_loss\n",
    "\n",
    "def test(dataloader, model):\n",
    "    '''\n",
    "    Perform a test pass.\n",
    "    Args:\n",
    "        dataloader (DataLoader(data)): Dataloader of a dataset using torchvision\n",
    "        model (ANN/CNN): Chosen model\n",
    "    '''\n",
    "    model.eval()\n",
    "    num_batch = len(dataloader)"
   ]
  },
  {
   "cell_type": "code",
   "execution_count": 73,
   "id": "69f36a69",
   "metadata": {},
   "outputs": [],
   "source": [
    "# initial hyperparameters\n",
    "learn_rate = 1e-3\n",
    "epochs = 2\n",
    "\n",
    "# initialise loss function and optimiser\n",
    "loss_fn = nn.CrossEntropyLoss()\n",
    "optimizer = torch.optim.Adam(ann_model.parameters(), lr=learn_rate)"
   ]
  },
  {
   "cell_type": "code",
   "execution_count": 83,
   "id": "bc3ecc45",
   "metadata": {},
   "outputs": [
    {
     "name": "stdout",
     "output_type": "stream",
     "text": [
      "Epoch 1/2\n",
      "loss: 1.650502  [   64/60000]\n",
      "loss: 1.633060  [ 6464/60000]\n",
      "loss: 1.586220  [12864/60000]\n",
      "loss: 1.679853  [19264/60000]\n",
      "loss: 1.650713  [25664/60000]\n",
      "loss: 1.652387  [32064/60000]\n",
      "loss: 1.638659  [38464/60000]\n",
      "loss: 1.525944  [44864/60000]\n",
      "loss: 1.601668  [51264/60000]\n",
      "loss: 1.745731  [57664/60000]\n",
      "Training loss = 1.646344\n",
      "Epoch 2/2\n",
      "loss: 1.725412  [   64/60000]\n",
      "loss: 1.633025  [ 6464/60000]\n",
      "loss: 1.586151  [12864/60000]\n",
      "loss: 1.595748  [19264/60000]\n",
      "loss: 1.601627  [25664/60000]\n",
      "loss: 1.632838  [32064/60000]\n",
      "loss: 1.633017  [38464/60000]\n",
      "loss: 1.617401  [44864/60000]\n",
      "loss: 1.692916  [51264/60000]\n",
      "loss: 1.586149  [57664/60000]\n",
      "Training loss = 1.640421\n"
     ]
    },
    {
     "ename": "NameError",
     "evalue": "name 'train_loss' is not defined",
     "output_type": "error",
     "traceback": [
      "\u001b[31m---------------------------------------------------------------------------\u001b[39m",
      "\u001b[31mNameError\u001b[39m                                 Traceback (most recent call last)",
      "\u001b[36mCell\u001b[39m\u001b[36m \u001b[39m\u001b[32mIn[83]\u001b[39m\u001b[32m, line 6\u001b[39m\n\u001b[32m      4\u001b[39m     train(train_loader, ann_model, loss_fn, optimizer)\n\u001b[32m      5\u001b[39m     \u001b[38;5;66;03m#loss_hist.append(train_loss)\u001b[39;00m\n\u001b[32m----> \u001b[39m\u001b[32m6\u001b[39m \u001b[38;5;28mprint\u001b[39m(\u001b[43mtrain_loss\u001b[49m)\n",
      "\u001b[31mNameError\u001b[39m: name 'train_loss' is not defined"
     ]
    }
   ],
   "source": [
    "loss_hist = []\n",
    "for e in range(epochs):\n",
    "    print(f'Epoch {e+1}/{epochs}')\n",
    "    train(train_loader, ann_model, loss_fn, optimizer)\n",
    "    #loss_hist.append(train_loss)\n",
    "print(train_loss)"
   ]
  }
 ],
 "metadata": {
  "kernelspec": {
   "display_name": ".venv",
   "language": "python",
   "name": "python3"
  },
  "language_info": {
   "codemirror_mode": {
    "name": "ipython",
    "version": 3
   },
   "file_extension": ".py",
   "mimetype": "text/x-python",
   "name": "python",
   "nbconvert_exporter": "python",
   "pygments_lexer": "ipython3",
   "version": "3.12.9"
  }
 },
 "nbformat": 4,
 "nbformat_minor": 5
}
